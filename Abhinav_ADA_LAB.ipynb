{
  "nbformat": 4,
  "nbformat_minor": 0,
  "metadata": {
    "colab": {
      "provenance": [],
      "collapsed_sections": [],
      "authorship_tag": "ABX9TyPky79zkUI5beKZol2shCkM",
      "include_colab_link": true
    },
    "kernelspec": {
      "name": "python3",
      "display_name": "Python 3"
    },
    "language_info": {
      "name": "python"
    }
  },
  "cells": [
    {
      "cell_type": "markdown",
      "metadata": {
        "id": "view-in-github",
        "colab_type": "text"
      },
      "source": [
        "<a href=\"https://colab.research.google.com/github/Abhinav-011/colab/blob/main/Abhinav_ADA_LAB.ipynb\" target=\"_parent\"><img src=\"https://colab.research.google.com/assets/colab-badge.svg\" alt=\"Open In Colab\"/></a>"
      ]
    },
    {
      "cell_type": "code",
      "execution_count": null,
      "metadata": {
        "colab": {
          "base_uri": "https://localhost:8080/"
        },
        "id": "GP8Tjx1l1hRP",
        "outputId": "4f46963e-adba-4191-fc4b-4622e1ffe004"
      },
      "outputs": [
        {
          "output_type": "stream",
          "name": "stdout",
          "text": [
            "\n",
            "*****Program to find GCD of 2 numbers using Euclid's Algorithm*****\n",
            "\n",
            "1.Euclid's Algorithm\n",
            "\n",
            "Enter first no.5\n",
            "Enter second no.3\n",
            "GCD =  1\n",
            "\n",
            "*****Program to find GCD of 2 numbers using Consecutive Integer Checking Algorithm*****\n",
            "\n",
            "2.Consecutive Integer Checking Algorithm\n",
            "\n",
            "Enter first no.5\n",
            "Enter second no.8\n",
            "GCD =  1\n"
          ]
        }
      ],
      "source": [
        "#Program_1\n",
        "#Program to fine GCD of two numbers using Euclids and consecutive interger checking Algorithm\n",
        "\n",
        "#Euclid's Algorithm\n",
        "\n",
        "def gcde(m,n):\n",
        "\tif m<n:\n",
        "\t\t(m,n)=(n,m)\n",
        "\twhile n!=0:\n",
        "\t\tr=m%n\n",
        "\t\tm=n\n",
        "\t\tn=r\n",
        "\treturn m\n",
        "print(\"\\n*****Program to find GCD of 2 numbers using Euclid's Algorithm*****\")\n",
        "print(\"\\n1.Euclid's Algorithm\\n\")\n",
        "m=int(input(\"Enter first no.\"))\n",
        "n=int(input(\"Enter second no.\"))\n",
        "print(\"GCD = \",gcde(m,n))\n",
        "\n",
        "#Consecutive Integer Checking Algorithm\n",
        "\n",
        "def gcdc(m,n):\n",
        "  t=min(m,n)\n",
        "  while t>0:\n",
        "    if m%t == 0 and n% t == 0:\n",
        "      return t\n",
        "    t=t-1\n",
        "print(\"\\n*****Program to find GCD of 2 numbers using Consecutive Integer Checking Algorithm*****\")\n",
        "print(\"\\n2.Consecutive Integer Checking Algorithm\\n\")\n",
        "m=int(input(\"Enter first no.\"))\n",
        "n=int(input(\"Enter second no.\"))\n",
        "print(\"GCD = \",gcdc(m,n)) "
      ]
    },
    {
      "cell_type": "code",
      "source": [
        "#PROGRAM_2\n",
        "#Program to implement Sieve of Eratosthenes to generate prime number b/w the given range\n",
        "\n",
        "def SieveOfEratosthenes(num):\n",
        "    prime = [True for i in range(num+1)]\n",
        "    print(prime)\n",
        "    p = 2\n",
        "    while (p * p <= num):\n",
        "        if (prime[p] == True):\n",
        "            for i in range(p * p, num+1, p):\n",
        "                prime[i] = False\n",
        "                print(i,prime[i])\n",
        "        p += 1\n",
        "    prime[0]=False\n",
        "    prime[1]=False    \n",
        "    for p in range(2, num+1):\n",
        "        if prime[p]:\n",
        "            print(p,prime[p])\n",
        "    print(prime)\n",
        "n=(int(input(\"Enter the value of n : \")))\n",
        "print(\"Following are the Prime numbers : \")\n",
        "SieveOfEratosthenes(n)\n"
      ],
      "metadata": {
        "id": "xdqyMY441v12",
        "colab": {
          "base_uri": "https://localhost:8080/"
        },
        "outputId": "bf8f3a7e-858b-48e0-94b2-6115577292df"
      },
      "execution_count": null,
      "outputs": [
        {
          "output_type": "stream",
          "name": "stdout",
          "text": [
            "Enter the value of n : 5\n",
            "Following are the Prime numbers : \n",
            "[True, True, True, True, True, True]\n",
            "4 False\n",
            "2 True\n",
            "3 True\n",
            "5 True\n",
            "[False, False, True, True, False, True]\n"
          ]
        }
      ]
    },
    {
      "cell_type": "code",
      "source": [
        "#PROGRAM 3\n",
        "#Write a program to implement String matching using Brute Force\n",
        "\n",
        "def search(pat,txt):\n",
        "    M=len(pat)\n",
        "    N=len(txt)\n",
        "    for i in range ((N-M)+1):\n",
        "      j=0\n",
        "      while(j<M):\n",
        "        if(txt[i+j]!=pat[j]):\n",
        "          break\n",
        "        j +=1\n",
        "        if(j == M):\n",
        "          print(\"the pattern are found at index\",i)\n",
        "txt=input(\"enter the text: \")\n",
        "pat=input(\"enter the pattern: \")\n",
        "search(pat, txt)\n",
        "\n",
        "\n",
        "#def search(text, pattern):\n",
        "#    n, m = len(text), len(pattern)\n",
        "#    for i in range(1 + (n - m)):\n",
        "#        match = True\n",
        "#        for j in range(m):\n",
        "#            if text[i + j] != pattern[j]:\n",
        "#                match = False\n",
        "#                break\n",
        "#        if match:\n",
        "#            return i\n",
        "#txt=input(\"Enter the Text :: \")\n",
        "#pat=input(\"Enter the Pattern :: \")\n",
        "#search(txt,pat)\n"
      ],
      "metadata": {
        "colab": {
          "base_uri": "https://localhost:8080/"
        },
        "id": "2lI1UynGGI5s",
        "outputId": "a36a6585-f6fa-4a88-efa9-35b5dff0368f"
      },
      "execution_count": null,
      "outputs": [
        {
          "output_type": "stream",
          "name": "stdout",
          "text": [
            "enter the text: abhi\n",
            "enter the pattern: a\n",
            "the pattern are found at index 0\n"
          ]
        }
      ]
    },
    {
      "cell_type": "code",
      "source": [
        "#PROGRAM_4\n"
      ],
      "metadata": {
        "id": "DMzJPvfKV-9J"
      },
      "execution_count": null,
      "outputs": []
    }
  ]
}